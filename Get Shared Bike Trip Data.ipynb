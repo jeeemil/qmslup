{
 "cells": [
  {
   "cell_type": "code",
   "execution_count": 35,
   "metadata": {},
   "outputs": [],
   "source": [
    "# Importing libraries\n",
    "import pandas as pd\n",
    "import requests, csv"
   ]
  },
  {
   "cell_type": "code",
   "execution_count": 37,
   "metadata": {},
   "outputs": [
    {
     "name": "stdin",
     "output_type": "stream",
     "text": [
      "Write the number of the month as for example \"05\" or \"09\". Then press Enter. 05\n"
     ]
    }
   ],
   "source": [
    "# Asking for the wanted month\n",
    "month = str(input('Write the number of the month as for example \"05\" or \"09\". Then press Enter.'))"
   ]
  },
  {
   "cell_type": "code",
   "execution_count": 38,
   "metadata": {},
   "outputs": [
    {
     "name": "stdin",
     "output_type": "stream",
     "text": [
      "Write the year as for example \"2019\". Then press Enter. 2018\n"
     ]
    }
   ],
   "source": [
    "# Asking for the wanted year\n",
    "year = str(input('Write the year as for example \"2019\". Then press Enter.'))"
   ]
  },
  {
   "cell_type": "code",
   "execution_count": 39,
   "metadata": {},
   "outputs": [],
   "source": [
    "# Creating a URL to the wanted data\n",
    "url =  \"http://dev.hsl.fi/citybikes/od-trips-\"+ year+ \"/\"+year +\"-\"+month+\".csv\""
   ]
  },
  {
   "cell_type": "code",
   "execution_count": 40,
   "metadata": {},
   "outputs": [],
   "source": [
    "# Reading the data from the URL to a dataframe\n",
    "data = pd.read_csv(url)"
   ]
  },
  {
   "cell_type": "code",
   "execution_count": 41,
   "metadata": {},
   "outputs": [
    {
     "data": {
      "text/html": [
       "<div>\n",
       "<style scoped>\n",
       "    .dataframe tbody tr th:only-of-type {\n",
       "        vertical-align: middle;\n",
       "    }\n",
       "\n",
       "    .dataframe tbody tr th {\n",
       "        vertical-align: top;\n",
       "    }\n",
       "\n",
       "    .dataframe thead th {\n",
       "        text-align: right;\n",
       "    }\n",
       "</style>\n",
       "<table border=\"1\" class=\"dataframe\">\n",
       "  <thead>\n",
       "    <tr style=\"text-align: right;\">\n",
       "      <th></th>\n",
       "      <th>Departure</th>\n",
       "      <th>Return</th>\n",
       "      <th>Departure station id</th>\n",
       "      <th>Departure station name</th>\n",
       "      <th>Return station id</th>\n",
       "      <th>Return station name</th>\n",
       "      <th>Covered distance (m)</th>\n",
       "      <th>Duration (sec.)</th>\n",
       "    </tr>\n",
       "  </thead>\n",
       "  <tbody>\n",
       "    <tr>\n",
       "      <th>0</th>\n",
       "      <td>2018-05-31T23:59:54</td>\n",
       "      <td>2018-06-01T00:10:00</td>\n",
       "      <td>113.0</td>\n",
       "      <td>Veturitori</td>\n",
       "      <td>109.0</td>\n",
       "      <td>Hertanmäenkatu</td>\n",
       "      <td>1390.0</td>\n",
       "      <td>649.0</td>\n",
       "    </tr>\n",
       "    <tr>\n",
       "      <th>1</th>\n",
       "      <td>2018-05-31T23:59:50</td>\n",
       "      <td>2018-06-01T00:54:00</td>\n",
       "      <td>621.0</td>\n",
       "      <td>Hauenkalliontie</td>\n",
       "      <td>625.0</td>\n",
       "      <td>Suomenlahdentie</td>\n",
       "      <td>11735.0</td>\n",
       "      <td>3280.0</td>\n",
       "    </tr>\n",
       "    <tr>\n",
       "      <th>2</th>\n",
       "      <td>2018-05-31T23:59:40</td>\n",
       "      <td>2018-06-01T00:23:00</td>\n",
       "      <td>22.0</td>\n",
       "      <td>Rautatientori / länsi</td>\n",
       "      <td>138.0</td>\n",
       "      <td>Arabiankatu</td>\n",
       "      <td>7008.0</td>\n",
       "      <td>1417.0</td>\n",
       "    </tr>\n",
       "    <tr>\n",
       "      <th>3</th>\n",
       "      <td>2018-05-31T23:59:00</td>\n",
       "      <td>2018-06-01T00:08:00</td>\n",
       "      <td>135.0</td>\n",
       "      <td>Velodrominrinne</td>\n",
       "      <td>149.0</td>\n",
       "      <td>Toinen linja</td>\n",
       "      <td>2599.0</td>\n",
       "      <td>565.0</td>\n",
       "    </tr>\n",
       "    <tr>\n",
       "      <th>4</th>\n",
       "      <td>2018-05-31T23:58:51</td>\n",
       "      <td>2018-06-01T00:04:00</td>\n",
       "      <td>30.0</td>\n",
       "      <td>Itämerentori</td>\n",
       "      <td>64.0</td>\n",
       "      <td>Tyynenmerenkatu</td>\n",
       "      <td>1035.0</td>\n",
       "      <td>352.0</td>\n",
       "    </tr>\n",
       "  </tbody>\n",
       "</table>\n",
       "</div>"
      ],
      "text/plain": [
       "             Departure               Return  Departure station id  \\\n",
       "0  2018-05-31T23:59:54  2018-06-01T00:10:00                 113.0   \n",
       "1  2018-05-31T23:59:50  2018-06-01T00:54:00                 621.0   \n",
       "2  2018-05-31T23:59:40  2018-06-01T00:23:00                  22.0   \n",
       "3  2018-05-31T23:59:00  2018-06-01T00:08:00                 135.0   \n",
       "4  2018-05-31T23:58:51  2018-06-01T00:04:00                  30.0   \n",
       "\n",
       "  Departure station name  Return station id Return station name  \\\n",
       "0             Veturitori              109.0      Hertanmäenkatu   \n",
       "1        Hauenkalliontie              625.0     Suomenlahdentie   \n",
       "2  Rautatientori / länsi              138.0         Arabiankatu   \n",
       "3        Velodrominrinne              149.0        Toinen linja   \n",
       "4           Itämerentori               64.0     Tyynenmerenkatu   \n",
       "\n",
       "   Covered distance (m)  Duration (sec.)  \n",
       "0                1390.0            649.0  \n",
       "1               11735.0           3280.0  \n",
       "2                7008.0           1417.0  \n",
       "3                2599.0            565.0  \n",
       "4                1035.0            352.0  "
      ]
     },
     "execution_count": 41,
     "metadata": {},
     "output_type": "execute_result"
    }
   ],
   "source": [
    "# Checking data\n",
    "data.head(5)"
   ]
  },
  {
   "cell_type": "code",
   "execution_count": 43,
   "metadata": {},
   "outputs": [
    {
     "name": "stdout",
     "output_type": "stream",
     "text": [
      "637995 trips were made in 05/2018.\n"
     ]
    }
   ],
   "source": [
    "print(str(len(data)) + \" trips were made in \" + month + \"/\" + year+ \".\")"
   ]
  }
 ],
 "metadata": {
  "kernelspec": {
   "display_name": "Python 3",
   "language": "python",
   "name": "python3"
  },
  "language_info": {
   "codemirror_mode": {
    "name": "ipython",
    "version": 3
   },
   "file_extension": ".py",
   "mimetype": "text/x-python",
   "name": "python",
   "nbconvert_exporter": "python",
   "pygments_lexer": "ipython3",
   "version": "3.8.5"
  }
 },
 "nbformat": 4,
 "nbformat_minor": 4
}
