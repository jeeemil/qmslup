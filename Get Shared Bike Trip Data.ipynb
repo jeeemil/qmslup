{
 "cells": [
  {
   "cell_type": "code",
   "execution_count": 35,
   "metadata": {},
   "outputs": [],
   "source": [
    "# Importing libraries\n",
    "import pandas as pd\n",
    "import requests, csv"
   ]
  },
  {
   "cell_type": "code",
   "execution_count": 83,
   "metadata": {},
   "outputs": [
    {
     "name": "stdin",
     "output_type": "stream",
     "text": [
      "Write the number of the month as for example \"05\" or \"09\". Then press Enter. 07\n"
     ]
    }
   ],
   "source": [
    "# Asking for the wanted month\n",
    "month = str(input('Write the number of the month as for example \"05\" or \"09\". Then press Enter.'))"
   ]
  },
  {
   "cell_type": "code",
   "execution_count": 84,
   "metadata": {},
   "outputs": [
    {
     "name": "stdin",
     "output_type": "stream",
     "text": [
      "Write the year as for example \"2019\". Then press Enter. 2019\n"
     ]
    }
   ],
   "source": [
    "# Asking for the wanted year\n",
    "year = str(input('Write the year as for example \"2019\". Then press Enter.'))"
   ]
  },
  {
   "cell_type": "code",
   "execution_count": 85,
   "metadata": {},
   "outputs": [],
   "source": [
    "# Creating a URL to the wanted data\n",
    "url =  \"http://dev.hsl.fi/citybikes/od-trips-\"+ year+ \"/\"+year +\"-\"+month+\".csv\""
   ]
  },
  {
   "cell_type": "code",
   "execution_count": 86,
   "metadata": {},
   "outputs": [],
   "source": [
    "# Reading the data from the URL to a dataframe\n",
    "data = pd.read_csv(url)"
   ]
  },
  {
   "cell_type": "code",
   "execution_count": 145,
   "metadata": {},
   "outputs": [],
   "source": [
    "# Checking data\n",
    "#data.head(5)"
   ]
  },
  {
   "cell_type": "code",
   "execution_count": 88,
   "metadata": {},
   "outputs": [
    {
     "name": "stdout",
     "output_type": "stream",
     "text": [
      "666362 trips were made in 07/2019.\n"
     ]
    }
   ],
   "source": [
    "print(str(len(data)) + \" trips were made in \" + month + \"/\" + year+ \".\")"
   ]
  },
  {
   "cell_type": "code",
   "execution_count": 106,
   "metadata": {},
   "outputs": [],
   "source": [
    "# Taking out only the time of the day of both departure and return times\n",
    "data['only_d_time'] = data['Departure'].str.slice(11,19)\n",
    "data['only_r_time'] = data['Return'].str.slice(11,19)"
   ]
  },
  {
   "cell_type": "code",
   "execution_count": 129,
   "metadata": {},
   "outputs": [],
   "source": [
    "# Replacing some empty cells with NaN values\n",
    "data['only_r_time'] = data['only_r_time'].replace(to_replace='', value=None)\n",
    "data['only_d_time'] = data['only_d_time'].replace(to_replace='', value=None)"
   ]
  },
  {
   "cell_type": "code",
   "execution_count": 140,
   "metadata": {},
   "outputs": [],
   "source": [
    "# Setting depature time to datetime\n",
    "data['departure_time'] = pd.to_datetime(data['only_d_time'], format='%H:%M:%S').dt.time\n",
    "data['return_time'] = pd.to_datetime(data['only_r_time'], format='%H:%M:%S').dt.time"
   ]
  },
  {
   "cell_type": "code",
   "execution_count": 144,
   "metadata": {},
   "outputs": [
    {
     "ename": "SyntaxError",
     "evalue": "invalid syntax (<ipython-input-144-40870fdb19e0>, line 1)",
     "output_type": "error",
     "traceback": [
      "\u001b[1;36m  File \u001b[1;32m\"<ipython-input-144-40870fdb19e0>\"\u001b[1;36m, line \u001b[1;32m1\u001b[0m\n\u001b[1;33m    night = data.loc[(data['departure_time'] >= 00:00:00) & (data['return_time'] < 05:00:00)]\u001b[0m\n\u001b[1;37m                                                  ^\u001b[0m\n\u001b[1;31mSyntaxError\u001b[0m\u001b[1;31m:\u001b[0m invalid syntax\n"
     ]
    }
   ],
   "source": [
    "# Trying to get only the night time data\n",
    "#night = data.loc[(data['departure_time'] >= 00:00:00) & (data['return_time'] < 05:00:00)]"
   ]
  },
  {
   "cell_type": "code",
   "execution_count": null,
   "metadata": {},
   "outputs": [],
   "source": []
  },
  {
   "cell_type": "code",
   "execution_count": null,
   "metadata": {},
   "outputs": [],
   "source": []
  },
  {
   "cell_type": "code",
   "execution_count": null,
   "metadata": {},
   "outputs": [],
   "source": []
  }
 ],
 "metadata": {
  "kernelspec": {
   "display_name": "Python 3",
   "language": "python",
   "name": "python3"
  },
  "language_info": {
   "codemirror_mode": {
    "name": "ipython",
    "version": 3
   },
   "file_extension": ".py",
   "mimetype": "text/x-python",
   "name": "python",
   "nbconvert_exporter": "python",
   "pygments_lexer": "ipython3",
   "version": "3.8.5"
  }
 },
 "nbformat": 4,
 "nbformat_minor": 4
}
