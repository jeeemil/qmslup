{
 "cells": [
  {
   "cell_type": "code",
   "execution_count": 48,
   "metadata": {},
   "outputs": [],
   "source": [
    "# Importing libraries\n",
    "import pandas as pd\n",
    "import requests, csv"
   ]
  },
  {
   "cell_type": "code",
   "execution_count": 50,
   "metadata": {},
   "outputs": [
    {
     "name": "stdin",
     "output_type": "stream",
     "text": [
      "Write the number of the month as for example \"05\" or \"09\". Then press Enter. 05\n"
     ]
    }
   ],
   "source": [
    "# Asking for the wanted month\n",
    "month = str(input('Write the number of the month as for example \"05\" or \"09\". Then press Enter.'))"
   ]
  },
  {
   "cell_type": "code",
   "execution_count": 51,
   "metadata": {},
   "outputs": [
    {
     "name": "stdin",
     "output_type": "stream",
     "text": [
      "Write the year as for example \"2019\". Then press Enter. 2019\n"
     ]
    }
   ],
   "source": [
    "# Asking for the wanted year\n",
    "year = str(input('Write the year as for example \"2019\". Then press Enter.'))"
   ]
  },
  {
   "cell_type": "code",
   "execution_count": 52,
   "metadata": {},
   "outputs": [],
   "source": [
    "# Creating a URL to the wanted data\n",
    "url =  \"http://dev.hsl.fi/citybikes/od-trips-\"+ year+ \"/\"+year +\"-\"+month+\".csv\""
   ]
  },
  {
   "cell_type": "code",
   "execution_count": 53,
   "metadata": {},
   "outputs": [],
   "source": [
    "# Reading the data from the URL to a dataframe\n",
    "data = pd.read_csv(url)"
   ]
  },
  {
   "cell_type": "code",
   "execution_count": 55,
   "metadata": {},
   "outputs": [
    {
     "name": "stdout",
     "output_type": "stream",
     "text": [
      "599730 trips were made in 05/2019.\n"
     ]
    }
   ],
   "source": [
    "print(str(len(data)) + \" trips were made in \" + month + \"/\" + year+ \".\")"
   ]
  },
  {
   "cell_type": "code",
   "execution_count": 59,
   "metadata": {},
   "outputs": [],
   "source": [
    "# Setting depature and return time to datetime format\n",
    "data['departure_time'] = pd.to_datetime(data['Departure'], format='%Y-%m-%dT%H:%M:%S')\n",
    "data['return_time'] = pd.to_datetime(data['Return'], format='%Y-%m-%dT%H:%M:%S')"
   ]
  },
  {
   "cell_type": "code",
   "execution_count": 70,
   "metadata": {},
   "outputs": [
    {
     "data": {
      "text/plain": [
       "599730"
      ]
     },
     "execution_count": 70,
     "metadata": {},
     "output_type": "execute_result"
    }
   ],
   "source": [
    "# New dataframe with depature time as datetimeindex\n",
    "dep_index_data = data\n",
    "dep_index_data['departure_time_2'] = dep_index_data['departure_time']\n",
    "dep_index_data.set_index(['departure_time'], inplace=True)"
   ]
  },
  {
   "cell_type": "code",
   "execution_count": 71,
   "metadata": {},
   "outputs": [
    {
     "data": {
      "text/plain": [
       "22022"
      ]
     },
     "execution_count": 71,
     "metadata": {},
     "output_type": "execute_result"
    }
   ],
   "source": [
    "# Selecting rows with departure time between 00:00 and 05:00\n",
    "departures = dep_index_data.between_time('00:00','05:00')"
   ]
  },
  {
   "cell_type": "code",
   "execution_count": 73,
   "metadata": {},
   "outputs": [],
   "source": [
    "# New dataframe with return time as datetimeindex\n",
    "ret_index_data = departures.set_index(['return_time'])"
   ]
  },
  {
   "cell_type": "code",
   "execution_count": 74,
   "metadata": {},
   "outputs": [],
   "source": [
    "# Selecting rows with return time between 00:00 and 05:00\n",
    "returns = ret_index_data.between_time('00:00','05:00')"
   ]
  },
  {
   "cell_type": "code",
   "execution_count": 76,
   "metadata": {},
   "outputs": [],
   "source": [
    "# New dataframe with only trips between 00:00 and 05:00\n",
    "night = returns.reset_index()"
   ]
  },
  {
   "cell_type": "code",
   "execution_count": 77,
   "metadata": {},
   "outputs": [],
   "source": [
    "# Dropping unnecessary columns\n",
    "night.drop(columns=['Departure','Return'], inplace=True)"
   ]
  },
  {
   "cell_type": "code",
   "execution_count": 79,
   "metadata": {},
   "outputs": [
    {
     "data": {
      "text/html": [
       "<div>\n",
       "<style scoped>\n",
       "    .dataframe tbody tr th:only-of-type {\n",
       "        vertical-align: middle;\n",
       "    }\n",
       "\n",
       "    .dataframe tbody tr th {\n",
       "        vertical-align: top;\n",
       "    }\n",
       "\n",
       "    .dataframe thead th {\n",
       "        text-align: right;\n",
       "    }\n",
       "</style>\n",
       "<table border=\"1\" class=\"dataframe\">\n",
       "  <thead>\n",
       "    <tr style=\"text-align: right;\">\n",
       "      <th></th>\n",
       "      <th>return_time</th>\n",
       "      <th>Departure station id</th>\n",
       "      <th>Departure station name</th>\n",
       "      <th>Return station id</th>\n",
       "      <th>Return station name</th>\n",
       "      <th>Covered distance (m)</th>\n",
       "      <th>Duration (sec.)</th>\n",
       "      <th>departure_time_2</th>\n",
       "    </tr>\n",
       "  </thead>\n",
       "  <tbody>\n",
       "    <tr>\n",
       "      <th>0</th>\n",
       "      <td>2019-05-31 04:47:30</td>\n",
       "      <td>129</td>\n",
       "      <td>Pernajantie</td>\n",
       "      <td>129.0</td>\n",
       "      <td>Pernajantie</td>\n",
       "      <td>2.0</td>\n",
       "      <td>23</td>\n",
       "      <td>2019-05-31 04:47:03</td>\n",
       "    </tr>\n",
       "    <tr>\n",
       "      <th>1</th>\n",
       "      <td>2019-05-31 04:50:29</td>\n",
       "      <td>111</td>\n",
       "      <td>Esterinportti</td>\n",
       "      <td>82.0</td>\n",
       "      <td>Töölöntulli</td>\n",
       "      <td>1206.0</td>\n",
       "      <td>270</td>\n",
       "      <td>2019-05-31 04:45:58</td>\n",
       "    </tr>\n",
       "    <tr>\n",
       "      <th>2</th>\n",
       "      <td>2019-05-31 04:55:07</td>\n",
       "      <td>104</td>\n",
       "      <td>Kriikunakuja</td>\n",
       "      <td>213.0</td>\n",
       "      <td>Huopalahden asema</td>\n",
       "      <td>1990.0</td>\n",
       "      <td>560</td>\n",
       "      <td>2019-05-31 04:45:42</td>\n",
       "    </tr>\n",
       "    <tr>\n",
       "      <th>3</th>\n",
       "      <td>2019-05-31 04:50:26</td>\n",
       "      <td>62</td>\n",
       "      <td>Messitytönkatu</td>\n",
       "      <td>21.0</td>\n",
       "      <td>Töölönlahdenkatu</td>\n",
       "      <td>2025.0</td>\n",
       "      <td>590</td>\n",
       "      <td>2019-05-31 04:40:31</td>\n",
       "    </tr>\n",
       "    <tr>\n",
       "      <th>4</th>\n",
       "      <td>2019-05-31 04:39:45</td>\n",
       "      <td>100</td>\n",
       "      <td>Teljäntie</td>\n",
       "      <td>101.0</td>\n",
       "      <td>Munkkivuoren ostoskeskus</td>\n",
       "      <td>804.0</td>\n",
       "      <td>264</td>\n",
       "      <td>2019-05-31 04:35:26</td>\n",
       "    </tr>\n",
       "  </tbody>\n",
       "</table>\n",
       "</div>"
      ],
      "text/plain": [
       "          return_time  Departure station id Departure station name  \\\n",
       "0 2019-05-31 04:47:30                   129            Pernajantie   \n",
       "1 2019-05-31 04:50:29                   111          Esterinportti   \n",
       "2 2019-05-31 04:55:07                   104           Kriikunakuja   \n",
       "3 2019-05-31 04:50:26                    62         Messitytönkatu   \n",
       "4 2019-05-31 04:39:45                   100              Teljäntie   \n",
       "\n",
       "   Return station id       Return station name  Covered distance (m)  \\\n",
       "0              129.0               Pernajantie                   2.0   \n",
       "1               82.0               Töölöntulli                1206.0   \n",
       "2              213.0         Huopalahden asema                1990.0   \n",
       "3               21.0          Töölönlahdenkatu                2025.0   \n",
       "4              101.0  Munkkivuoren ostoskeskus                 804.0   \n",
       "\n",
       "   Duration (sec.)    departure_time_2  \n",
       "0               23 2019-05-31 04:47:03  \n",
       "1              270 2019-05-31 04:45:58  \n",
       "2              560 2019-05-31 04:45:42  \n",
       "3              590 2019-05-31 04:40:31  \n",
       "4              264 2019-05-31 04:35:26  "
      ]
     },
     "execution_count": 79,
     "metadata": {},
     "output_type": "execute_result"
    }
   ],
   "source": [
    "night.head(5)"
   ]
  },
  {
   "cell_type": "code",
   "execution_count": null,
   "metadata": {},
   "outputs": [],
   "source": []
  }
 ],
 "metadata": {
  "kernelspec": {
   "display_name": "Python 3",
   "language": "python",
   "name": "python3"
  },
  "language_info": {
   "codemirror_mode": {
    "name": "ipython",
    "version": 3
   },
   "file_extension": ".py",
   "mimetype": "text/x-python",
   "name": "python",
   "nbconvert_exporter": "python",
   "pygments_lexer": "ipython3",
   "version": "3.8.5"
  }
 },
 "nbformat": 4,
 "nbformat_minor": 4
}
