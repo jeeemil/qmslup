{
 "cells": [
  {
   "cell_type": "markdown",
   "metadata": {},
   "source": [
    "### Step 1: Choose the data you want\n",
    "This is a notebook for handling shared bike trip data in Helsinki and Espoo. In the first step the notebook asks for the month and year you want to use. To run the cells in Jupyter, press shift + enter."
   ]
  },
  {
   "cell_type": "code",
   "execution_count": 18,
   "metadata": {},
   "outputs": [],
   "source": [
    "# Importing libraries\n",
    "import pandas as pd\n",
    "import geopandas as gpd\n",
    "import requests, csv"
   ]
  },
  {
   "cell_type": "code",
   "execution_count": 19,
   "metadata": {},
   "outputs": [
    {
     "name": "stdin",
     "output_type": "stream",
     "text": [
      "Write the number of the month as for example \"05\" or \"09\". Then press Enter. 06\n"
     ]
    }
   ],
   "source": [
    "# Asking for the wanted month\n",
    "month = str(input('Write the number of the month as for example \"05\" or \"09\". Then press Enter.'))"
   ]
  },
  {
   "cell_type": "code",
   "execution_count": 20,
   "metadata": {},
   "outputs": [
    {
     "name": "stdin",
     "output_type": "stream",
     "text": [
      "Write the year as for example \"2019\". Then press Enter. 2019\n"
     ]
    }
   ],
   "source": [
    "# Asking for the wanted year\n",
    "year = str(input('Write the year as for example \"2019\". Then press Enter.'))"
   ]
  },
  {
   "cell_type": "code",
   "execution_count": 21,
   "metadata": {},
   "outputs": [],
   "source": [
    "# Creating a URL to the wanted data\n",
    "url =  \"http://dev.hsl.fi/citybikes/od-trips-\"+ year+ \"/\"+year +\"-\"+month+\".csv\"\n",
    "# Reading the data from the URL to a dataframe\n",
    "data = pd.read_csv(url)"
   ]
  },
  {
   "cell_type": "code",
   "execution_count": 22,
   "metadata": {},
   "outputs": [
    {
     "name": "stdout",
     "output_type": "stream",
     "text": [
      "715227 trips were made in 06/2019.\n"
     ]
    }
   ],
   "source": [
    "# Printing out the amount of trips made\n",
    "print(str(len(data)) + \" trips were made in \" + month + \"/\" + year+ \".\")"
   ]
  },
  {
   "cell_type": "markdown",
   "metadata": {},
   "source": [
    "### Step 2: Dividing the bike trip data into night and day trips"
   ]
  },
  {
   "cell_type": "code",
   "execution_count": 23,
   "metadata": {},
   "outputs": [],
   "source": [
    "# Setting depature and return time to datetime format\n",
    "data['departure_time'] = pd.to_datetime(data['Departure'], format='%Y-%m-%dT%H:%M:%S')\n",
    "data['return_time'] = pd.to_datetime(data['Return'], format='%Y-%m-%dT%H:%M:%S')\n",
    "\n",
    "# New dataframe with depature time as datetimeindex\n",
    "dep_index_data = data\n",
    "dep_index_data['departure_time_2'] = dep_index_data['departure_time']\n",
    "dep_index_data.set_index(['departure_time'], inplace=True)\n",
    "\n",
    "# Selecting rows with departure time between 00:00 and 05:00\n",
    "departures = dep_index_data.between_time('00:00','05:00')\n",
    "\n",
    "# New dataframe with return time as datetimeindex\n",
    "ret_index_data = departures.set_index(['return_time'])\n",
    "\n",
    "# Selecting rows with return time between 00:00 and 05:00\n",
    "returns = ret_index_data.between_time('00:00','05:00')\n",
    "\n",
    "# New dataframe with only trips between 00:00 and 05:00\n",
    "night = returns.reset_index()\n",
    "\n",
    "# Dropping unnecessary columns\n",
    "night.drop(columns=['Departure','Return'], inplace=True)"
   ]
  },
  {
   "cell_type": "code",
   "execution_count": 9,
   "metadata": {},
   "outputs": [],
   "source": [
    "# If you want a csv-file of night time bike trips, please uncomment the following line\n",
    "\n",
    "#night.to_csv('output/night_06_2019.csv')"
   ]
  },
  {
   "cell_type": "markdown",
   "metadata": {},
   "source": [
    "We continue with the same procedure for getting the day data."
   ]
  },
  {
   "cell_type": "code",
   "execution_count": 24,
   "metadata": {},
   "outputs": [],
   "source": [
    "# Same procedure as above, but for days\n",
    "d_deps = dep_index_data.between_time('05:00','00:00')\n",
    "d_index_data = d_deps.set_index(['return_time'])\n",
    "d_rets = d_index_data.between_time('05:00','00:00')\n",
    "\n",
    "# Dropping unnecessary columns for day data\n",
    "day = d_rets.reset_index()\n",
    "day.drop(columns=['Departure','Return'], inplace=True)"
   ]
  },
  {
   "cell_type": "code",
   "execution_count": 12,
   "metadata": {},
   "outputs": [],
   "source": [
    "# If you want a csv-file of day time bike trips, please uncomment the following line\n",
    "\n",
    "#day.to_csv('output/day_06_2019.csv')"
   ]
  },
  {
   "cell_type": "code",
   "execution_count": 27,
   "metadata": {},
   "outputs": [
    {
     "name": "stdout",
     "output_type": "stream",
     "text": [
      "Day trips: 677875\n",
      "Night trips: 32680\n",
      "645195 more trips during the day than the night!\n"
     ]
    }
   ],
   "source": [
    "# Printing out general info of the data\n",
    "print('Day trips: ' + str(len(day)))\n",
    "print('Night trips: ' + str(len(night)))\n",
    "print(str(len(day)-len(night))+ ' more trips during the day than the night!')"
   ]
  },
  {
   "cell_type": "markdown",
   "metadata": {},
   "source": [
    "### Step 3: Reading in the bike station data\n",
    "\n",
    "The data for the shared bike stations can be downloaded from [this link](https://public-transport-hslhrt.opendata.arcgis.com/datasets/helsingin-ja-espoon-kaupunkipy%C3%B6r%C3%A4asemat/data). In this notebook we used the Shapefile format."
   ]
  },
  {
   "cell_type": "code",
   "execution_count": 29,
   "metadata": {},
   "outputs": [],
   "source": [
    "# Reading in bike station shapefile\n",
    "stations = gpd.read_file('data/Helsingin_ja_Espoon_kaupunkipy%C3%B6r%C3%A4asemat.shp')\n",
    "\n",
    "# Using only some columns, setting the station ID as index\n",
    "stat = stations[['ID','Nimi','Osoite','geometry']]\n",
    "stat['ID'] = stat['ID'].astype(int)\n",
    "stat = stat.set_index(('ID'))"
   ]
  },
  {
   "cell_type": "markdown",
   "metadata": {},
   "source": [
    "### Step 3.1: Make a geopackage file with the stations, including all the night or day trips (optional)\n",
    "\n",
    "Basically this data is all the trips (night and day separately) and adding the correct departure and return geometry, based on the station id given. If you are not interested in this data, you may skip this step."
   ]
  },
  {
   "cell_type": "code",
   "execution_count": 35,
   "metadata": {},
   "outputs": [],
   "source": [
    "# We'll start with the night data\n",
    "\n",
    "# Setting index as departure station id for night data\n",
    "night_dep_stat_id = night.set_index('Departure station id')\n",
    "night_ret_stat_id = night.set_index('Return station id')\n",
    "\n",
    "# Joining night trip data with departure station geometries\n",
    "night_dep_geo = night_dep_stat_id.join(stat)\n",
    "night_ret_geo = night_ret_stat_id.join(stat)\n",
    "\n",
    "# Make GeoDataFrame\n",
    "night_dep_gpd = gpd.GeoDataFrame(night_dep_geo, crs=stations.crs, geometry='geometry')\n",
    "night_ret_gpd = gpd.GeoDataFrame(night_ret_geo, crs=stations.crs, geometry='geometry')\n",
    "# Uncomment follwing two lines to create GeoPackage files \n",
    "#night_dep_gpd.to_file('night_trips_departure_geometry.gpkg', driver=\"GPKG\")\n",
    "#night_ret_gpd.to_file('night_trips_return_geometry.gpkg', driver=\"GPKG\")\n"
   ]
  },
  {
   "cell_type": "code",
   "execution_count": 22,
   "metadata": {},
   "outputs": [],
   "source": [
    "# This is the same as above, but for day time data\n",
    "\n",
    "# Setting index as departure station id for night data\n",
    "day_dep_stat_id = day.set_index('Departure station id')\n",
    "day_ret_stat_id = day.set_index('Return station id')\n",
    "\n",
    "# Joining night trip data with departure station geometries\n",
    "day_dep_geo = day_dep_stat_id.join(stat)\n",
    "day_ret_geo = day_ret_stat_id.join(stat)\n",
    "\n",
    "# Make GeoDataFrame\n",
    "day_dep_gpd = gpd.GeoDataFrame(day_dep_geo, crs=stations.crs, geometry='geometry')\n",
    "day_ret_gpd = gpd.GeoDataFrame(day_ret_geo, crs=stations.crs, geometry='geometry')\n",
    "\n",
    "# Uncomment follwing two lines to create GeoPackage files \n",
    "#day_dep_gpd.to_file('day_trips_departure_geometry.gpkg', driver=\"GPKG\")\n",
    "#day_ret_gpd.to_file('day_trips_return_geometry.gpkg', driver=\"GPKG\")\n"
   ]
  },
  {
   "cell_type": "code",
   "execution_count": 23,
   "metadata": {},
   "outputs": [],
   "source": [
    "\n"
   ]
  },
  {
   "cell_type": "markdown",
   "metadata": {},
   "source": [
    "### Step 3.2: Get the average data for each bike station (optional)\n",
    "\n",
    "In this step, you can get a geopackage file with aggregated departure or return station data for night or day time data. In the finished file you will have the average distance covered, average duration covered as well as the trip count for each bike station."
   ]
  },
  {
   "cell_type": "markdown",
   "metadata": {},
   "source": [
    "The first option is to get out night time departure data."
   ]
  },
  {
   "cell_type": "code",
   "execution_count": 37,
   "metadata": {},
   "outputs": [],
   "source": [
    "# Grouping night data by departure station id\n",
    "dep_grouped_night = night.groupby('Departure station id')\n",
    "\n",
    "# Getting the grouped data averages over distance and duration, adding trip count\n",
    "night_mean_data = pd.DataFrame()\n",
    "mean_cols = ['Covered distance (m)', 'Duration (sec.)']\n",
    "\n",
    "for key, group in dep_grouped_night:\n",
    "    mean_values = group[mean_cols].mean()\n",
    "    mean_values['Departure station id'] = key\n",
    "    mean_values['trip_count'] = len(group)\n",
    "    night_mean_data = night_mean_data.append(mean_values, ignore_index=True)\n",
    "    \n",
    "# Setting index to departure station id\n",
    "night_mean_data = night_mean_data.set_index('Departure station id')\n",
    "\n",
    "# Joining night mean data with geometries\n",
    "dep_night_stat = night_mean_data.join(stat)\n",
    "\n",
    "dep_night_stat_gpd = gpd.GeoDataFrame(dep_night_stat, crs=stations.crs, geometry='geometry')\n",
    "# Uncomment following line to write to file\n",
    "#dep_night_stat_gpd.to_file('data/night_departure_stations.gpkg', driver=\"GPKG\")"
   ]
  },
  {
   "cell_type": "markdown",
   "metadata": {},
   "source": [
    "The second option is to get out night time return data"
   ]
  },
  {
   "cell_type": "code",
   "execution_count": 38,
   "metadata": {},
   "outputs": [],
   "source": [
    "# Grouping night data by departure station id\n",
    "ret_grouped_night = night.groupby('Return station id')\n",
    "\n",
    "# Getting the grouped data averages over distance and duration, adding trip count\n",
    "night_mean_ret_data = pd.DataFrame()\n",
    "mean_cols = ['Covered distance (m)', 'Duration (sec.)']\n",
    "\n",
    "for key, group in ret_grouped_night:\n",
    "    mean_values = group[mean_cols].mean()\n",
    "    mean_values['Return station id'] = key\n",
    "    mean_values['trip_count'] = len(group)\n",
    "    night_mean_ret_data = night_mean_ret_data.append(mean_values, ignore_index=True)\n",
    "    \n",
    "# Setting index to departure station id\n",
    "night_mean_ret_data = night_mean_ret_data.set_index('Return station id')\n",
    "\n",
    "# Joining night mean data with geometries\n",
    "ret_night_stat = night_mean_ret_data.join(stat)\n",
    "\n",
    "ret_night_stat_gpd = gpd.GeoDataFrame(ret_night_stat, crs=stations.crs, geometry='geometry')\n",
    "# Uncomment following line to write to file\n",
    "#ret_night_stat_gpd.to_file('data/night_return_stations.gpkg', driver=\"GPKG\")"
   ]
  },
  {
   "cell_type": "markdown",
   "metadata": {},
   "source": [
    "The third option is to get day time departure data"
   ]
  },
  {
   "cell_type": "code",
   "execution_count": 28,
   "metadata": {},
   "outputs": [],
   "source": [
    "# Grouping night data by departure station id\n",
    "dep_grouped_day = day.groupby('Departure station id')\n",
    "\n",
    "# Getting the grouped data averages over distance and duration, adding trip count\n",
    "day_mean_dep_data = pd.DataFrame()\n",
    "mean_cols = ['Covered distance (m)', 'Duration (sec.)']\n",
    "\n",
    "for key, group in dep_grouped_day:\n",
    "    mean_values = group[mean_cols].mean()\n",
    "    mean_values['Departure station id'] = key\n",
    "    mean_values['trip_count'] = len(group)\n",
    "    day_mean_dep_data = day_mean_dep_data.append(mean_values, ignore_index=True)\n",
    "    \n",
    "# Setting index to departure station id\n",
    "day_mean_dep_data = day_mean_dep_data.set_index('Departure station id')\n",
    "\n",
    "# Joining night mean data with geometries\n",
    "dep_day_stat = day_mean_dep_data.join(stat)\n",
    "\n",
    "dep_day_stat_gpd = gpd.GeoDataFrame(dep_day_stat, crs=stations.crs, geometry='geometry')\n",
    "# Uncomment following line to write to file\n",
    "#dep_day_stat_gpd.to_file('data/day_departure_stations.gpkg', driver=\"GPKG\")"
   ]
  },
  {
   "cell_type": "markdown",
   "metadata": {},
   "source": [
    "And the fourth option is to get day time return data"
   ]
  },
  {
   "cell_type": "code",
   "execution_count": 27,
   "metadata": {},
   "outputs": [],
   "source": [
    "# Grouping night data by departure station id\n",
    "ret_grouped_day = day.groupby('Return station id')\n",
    "\n",
    "# Getting the grouped data averages over distance and duration, adding trip count\n",
    "day_mean_ret_data = pd.DataFrame()\n",
    "mean_cols = ['Covered distance (m)', 'Duration (sec.)']\n",
    "\n",
    "for key, group in ret_grouped_day:\n",
    "    mean_values = group[mean_cols].mean()\n",
    "    mean_values['Return station id'] = key\n",
    "    mean_values['trip_count'] = len(group)\n",
    "    day_mean_ret_data = day_mean_ret_data.append(mean_values, ignore_index=True)\n",
    "    \n",
    "# Setting index to departure station id\n",
    "day_mean_ret_data = day_mean_ret_data.set_index('Return station id')\n",
    "\n",
    "# Joining night mean data with geometries\n",
    "ret_day_stat = day_mean_ret_data.join(stat)\n",
    "\n",
    "ret_day_stat_gpd = gpd.GeoDataFrame(ret_day_stat, crs=stations.crs, geometry='geometry')\n",
    "# Uncomment following line to write to file\n",
    "#ret_day_stat_gpd.to_file('data/day_return_stations.gpkg', driver=\"GPKG\")"
   ]
  },
  {
   "cell_type": "markdown",
   "metadata": {},
   "source": [
    "### Step 3.4: Making a .gpkg file with euclidean lines between depature and return station (optional)"
   ]
  },
  {
   "cell_type": "code",
   "execution_count": 39,
   "metadata": {},
   "outputs": [
    {
     "name": "stderr",
     "output_type": "stream",
     "text": [
      "C:\\Users\\emile\\miniconda3\\envs\\gis\\lib\\site-packages\\geopandas\\geodataframe.py:853: SettingWithCopyWarning: \n",
      "A value is trying to be set on a copy of a slice from a DataFrame.\n",
      "Try using .loc[row_indexer,col_indexer] = value instead\n",
      "\n",
      "See the caveats in the documentation: https://pandas.pydata.org/pandas-docs/stable/user_guide/indexing.html#returning-a-view-versus-a-copy\n",
      "  super(GeoDataFrame, self).__setitem__(key, value)\n"
     ]
    }
   ],
   "source": [
    "# Creating files with only station geometry and ID \n",
    "stat_line_dep = stations[['ID','geometry']]\n",
    "stat_line_dep['Departure station id'] = stations['ID'].astype(int)\n",
    "\n",
    "# Creating files with only station geometry and ID \n",
    "stat_line_ret = stations[['ID','geometry']]\n",
    "stat_line_ret['Return station id'] = stations['ID'].astype(int)"
   ]
  },
  {
   "cell_type": "code",
   "execution_count": 40,
   "metadata": {},
   "outputs": [],
   "source": [
    "# Importing shapely \n",
    "from shapely.geometry import LineString"
   ]
  },
  {
   "cell_type": "markdown",
   "metadata": {},
   "source": [
    "This first code cells makes the lines from the night data. The day data is too big, so an alternative approach is made in a later stage. In this stage we can get more information into the final geopackage output. The code is quite slow so please be patient. "
   ]
  },
  {
   "cell_type": "code",
   "execution_count": 42,
   "metadata": {},
   "outputs": [
    {
     "name": "stderr",
     "output_type": "stream",
     "text": [
      "<ipython-input-42-5c2fd96c99da>:3: SettingWithCopyWarning: \n",
      "A value is trying to be set on a copy of a slice from a DataFrame.\n",
      "Try using .loc[row_indexer,col_indexer] = value instead\n",
      "\n",
      "See the caveats in the documentation: https://pandas.pydata.org/pandas-docs/stable/user_guide/indexing.html#returning-a-view-versus-a-copy\n",
      "  night_line['Return station id'] = night_line['Return station id'].astype(int)\n"
     ]
    }
   ],
   "source": [
    "# Creating dataframe with only id of departure and return station id numbers from the night data\n",
    "night_line = night[['Departure station id', 'Return station id']]\n",
    "night_line['Return station id'] = night_line['Return station id'].astype(int)\n",
    "\n",
    "# Merging the departure data with geometries\n",
    "merged_dep_night = pd.merge(left=night_line, right=stat_line_dep, on='Departure station id', right_index=True)\n",
    "\n",
    "# Selecting only some columns for depature data with geometries and renaming geometry column\n",
    "merged_dep_night = merged_dep_night[['Departure station id','geometry']]\n",
    "merged_dep_night.rename(columns={'geometry':'dep_point'}, inplace=True)\n",
    "\n",
    "# Merging the return data with geometries\n",
    "merged_ret_night = pd.merge(left=night, right=stat_line_ret, on='Return station id', right_index=True)\n",
    "\n",
    "# Selecting only some columns for return data with geometries and renaming geometry column\n",
    "merged_ret_night = merged_ret_night[['Return station id', 'geometry']]\n",
    "merged_ret_night.rename(columns={'geometry':'ret_point'}, inplace=True)\n",
    "\n",
    "# Joining the merged departure and return data\n",
    "joined = merged_dep_night.join(merged_ret_night)\n",
    "\n",
    "# Creating a new dataframe for the night points with an empty geometry column\n",
    "night_points = pd.DataFrame()\n",
    "night_points['geometry'] = None\n",
    "\n",
    "# Looping through the joined data and adding a LineString to each bike trip, with the departure and return id\n",
    "for i, row in joined.iterrows():\n",
    "    line = LineString([row['dep_point'], row['ret_point']])\n",
    "    night_points.at[i, 'dep_id'] = row['Departure station id']\n",
    "    night_points.at[i, 'ret_id'] = row['Return station id']\n",
    "    night_points.at[i, 'geometry'] = line\n",
    "    \n",
    "# Creating a geopandas dataframe with lines as the geometry\n",
    "night_gpd = gpd.GeoDataFrame(night_points, geometry='geometry', crs=stations.crs)\n",
    "\n",
    "#Uncomment line below to write to file\n",
    "night_gpd.to_file('data/night_lines_with_station_id.gpkg', driver=\"GPKG\")"
   ]
  },
  {
   "cell_type": "markdown",
   "metadata": {},
   "source": [
    "The following code makes line data for the day time bike trips. We use a different, faster approach due to the massive amount of data."
   ]
  },
  {
   "cell_type": "code",
   "execution_count": 43,
   "metadata": {},
   "outputs": [],
   "source": [
    "# Choosing only id numbers for the day line data\n",
    "day_line = day[['Departure station id', 'Return station id']]\n",
    "#day_line['Return station id'] = day_line['Return station id'].astype(int)\n",
    "\n",
    "# Merging the day departures with geometries\n",
    "merged_dep_day = pd.merge(left=day_line, right=stat_line_dep, on='Departure station id', right_index=True)\n",
    "\n",
    "# Selecting only some columns for depature data with geometries and renaming geometry column\n",
    "merged_dep_day = merged_dep_day[['Departure station id','geometry']]\n",
    "merged_dep_day.rename(columns={'geometry':'dep_point'}, inplace=True)\n",
    "\n",
    "# Merging the return data with geometries\n",
    "merged_ret_day = pd.merge(left=day, right=stat_line_ret, on='Return station id', right_index=True)\n",
    "\n",
    "# Selecting only some columns for return data with geometries and renaming geometry column\n",
    "merged_ret_day = merged_ret_day[['Return station id', 'geometry']]\n",
    "merged_ret_day.rename(columns={'geometry':'ret_point'}, inplace=True)\n",
    "\n",
    "# Joining the merged departure and return data\n",
    "joined = merged_dep_day.join(merged_ret_day) \n",
    "\n",
    "#Creating an empty data frame with an empty geometry column\n",
    "day_points = pd.DataFrame()\n",
    "day_points['geometry'] = None\n",
    "\n",
    "# Cropping NaN-values and resetting index of joined. Changing the id of return station to intege\n",
    "joined.dropna(inplace=True)\n",
    "joined.reset_index(inplace=True)\n",
    "joined['Return station id'] = joined['Return station id'].astype(int)\n",
    "\n",
    "# Making lists of the depature and return points\n",
    "dep_list = joined['dep_point'].tolist()\n",
    "ret_list = joined['ret_point'].tolist()\n",
    "\n",
    "# Zip looping through the point lists to make the linestring and adding it to an empty list\n",
    "line_list = []\n",
    "for dep, ret in zip(dep_list, ret_list):\n",
    "    if dep == ret:\n",
    "        continue\n",
    "    else:\n",
    "        line = LineString([dep, ret])\n",
    "        line_list.append(line)\n",
    "\n",
    "# Creating a geodataframe of the list of lines\n",
    "day_lines = gpd.GeoDataFrame(crs=stations.crs, geometry=line_list)\n",
    "\n",
    "#Uncomment to write the linelist to a .gpkg file\n",
    "day_lines.to_file('data/day_lines.gpkg', driver=\"GPKG\")"
   ]
  },
  {
   "cell_type": "code",
   "execution_count": 74,
   "metadata": {},
   "outputs": [],
   "source": []
  }
 ],
 "metadata": {
  "kernelspec": {
   "display_name": "Python 3",
   "language": "python",
   "name": "python3"
  },
  "language_info": {
   "codemirror_mode": {
    "name": "ipython",
    "version": 3
   },
   "file_extension": ".py",
   "mimetype": "text/x-python",
   "name": "python",
   "nbconvert_exporter": "python",
   "pygments_lexer": "ipython3",
   "version": "3.8.5"
  }
 },
 "nbformat": 4,
 "nbformat_minor": 4
}
