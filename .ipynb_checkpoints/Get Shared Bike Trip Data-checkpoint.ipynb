{
 "cells": [
  {
   "cell_type": "code",
   "execution_count": 34,
   "metadata": {},
   "outputs": [],
   "source": [
    "# Importing libraries\n",
    "import pandas as pd\n",
    "import geopandas as gpd\n",
    "import requests, csv"
   ]
  },
  {
   "cell_type": "code",
   "execution_count": 20,
   "metadata": {},
   "outputs": [
    {
     "name": "stdin",
     "output_type": "stream",
     "text": [
      "Write the number of the month as for example \"05\" or \"09\". Then press Enter. 06\n"
     ]
    }
   ],
   "source": [
    "# Asking for the wanted month\n",
    "month = str(input('Write the number of the month as for example \"05\" or \"09\". Then press Enter.'))"
   ]
  },
  {
   "cell_type": "code",
   "execution_count": 3,
   "metadata": {},
   "outputs": [
    {
     "name": "stdin",
     "output_type": "stream",
     "text": [
      "Write the year as for example \"2019\". Then press Enter. 2019\n"
     ]
    }
   ],
   "source": [
    "# Asking for the wanted year\n",
    "year = str(input('Write the year as for example \"2019\". Then press Enter.'))"
   ]
  },
  {
   "cell_type": "code",
   "execution_count": 21,
   "metadata": {},
   "outputs": [],
   "source": [
    "# Creating a URL to the wanted data\n",
    "url =  \"http://dev.hsl.fi/citybikes/od-trips-\"+ year+ \"/\"+year +\"-\"+month+\".csv\""
   ]
  },
  {
   "cell_type": "code",
   "execution_count": 22,
   "metadata": {},
   "outputs": [],
   "source": [
    "# Reading the data from the URL to a dataframe\n",
    "data = pd.read_csv(url)"
   ]
  },
  {
   "cell_type": "code",
   "execution_count": 23,
   "metadata": {},
   "outputs": [
    {
     "name": "stdout",
     "output_type": "stream",
     "text": [
      "715227 trips were made in 06/2019.\n"
     ]
    }
   ],
   "source": [
    "print(str(len(data)) + \" trips were made in \" + month + \"/\" + year+ \".\")"
   ]
  },
  {
   "cell_type": "code",
   "execution_count": 24,
   "metadata": {},
   "outputs": [],
   "source": [
    "# Setting depature and return time to datetime format\n",
    "data['departure_time'] = pd.to_datetime(data['Departure'], format='%Y-%m-%dT%H:%M:%S')\n",
    "data['return_time'] = pd.to_datetime(data['Return'], format='%Y-%m-%dT%H:%M:%S')"
   ]
  },
  {
   "cell_type": "code",
   "execution_count": 25,
   "metadata": {},
   "outputs": [],
   "source": [
    "# New dataframe with depature time as datetimeindex\n",
    "dep_index_data = data\n",
    "dep_index_data['departure_time_2'] = dep_index_data['departure_time']\n",
    "dep_index_data.set_index(['departure_time'], inplace=True)"
   ]
  },
  {
   "cell_type": "code",
   "execution_count": 26,
   "metadata": {},
   "outputs": [],
   "source": [
    "# Selecting rows with departure time between 00:00 and 05:00\n",
    "departures = dep_index_data.between_time('00:00','05:00')"
   ]
  },
  {
   "cell_type": "code",
   "execution_count": 27,
   "metadata": {},
   "outputs": [],
   "source": [
    "# New dataframe with return time as datetimeindex\n",
    "ret_index_data = departures.set_index(['return_time'])"
   ]
  },
  {
   "cell_type": "code",
   "execution_count": 28,
   "metadata": {},
   "outputs": [],
   "source": [
    "# Selecting rows with return time between 00:00 and 05:00\n",
    "returns = ret_index_data.between_time('00:00','05:00')"
   ]
  },
  {
   "cell_type": "code",
   "execution_count": 29,
   "metadata": {},
   "outputs": [],
   "source": [
    "# New dataframe with only trips between 00:00 and 05:00\n",
    "night = returns.reset_index()"
   ]
  },
  {
   "cell_type": "code",
   "execution_count": 30,
   "metadata": {},
   "outputs": [],
   "source": [
    "# Dropping unnecessary columns\n",
    "night.drop(columns=['Departure','Return'], inplace=True)"
   ]
  },
  {
   "cell_type": "code",
   "execution_count": 46,
   "metadata": {},
   "outputs": [
    {
     "data": {
      "text/plain": [
       "Index(['return_time', 'Departure station id', 'Departure station name',\n",
       "       'Return station id', 'Return station name', 'Covered distance (m)',\n",
       "       'Duration (sec.)', 'departure_time_2'],\n",
       "      dtype='object')"
      ]
     },
     "execution_count": 46,
     "metadata": {},
     "output_type": "execute_result"
    }
   ],
   "source": [
    "night.columns"
   ]
  },
  {
   "cell_type": "code",
   "execution_count": 35,
   "metadata": {},
   "outputs": [],
   "source": [
    "stations = gpd.read_file('Helsingin_ja_Espoon_kaupunkipy%C3%B6r%C3%A4asemat.shp')"
   ]
  },
  {
   "cell_type": "code",
   "execution_count": 37,
   "metadata": {},
   "outputs": [],
   "source": [
    "stat = stations[['ID','Nimi','Osoite','geometry']]"
   ]
  },
  {
   "cell_type": "code",
   "execution_count": 49,
   "metadata": {},
   "outputs": [],
   "source": [
    "dep_grouped_night = night.groupby('Departure station id')"
   ]
  },
  {
   "cell_type": "code",
   "execution_count": 51,
   "metadata": {},
   "outputs": [],
   "source": [
    "night_mean_data = pd.DataFrame()\n",
    "mean_cols = ['Covered distance (m)', 'Duration (sec.)']\n",
    "\n",
    "for key, group in dep_grouped_night:\n",
    "    mean_values = group[mean_cols].mean()\n",
    "    mean_values['ID'] = key\n",
    "    night_mean_data = night_mean_data.append(mean_values, ignore_index=True)\n"
   ]
  },
  {
   "cell_type": "code",
   "execution_count": 52,
   "metadata": {},
   "outputs": [
    {
     "data": {
      "text/html": [
       "<div>\n",
       "<style scoped>\n",
       "    .dataframe tbody tr th:only-of-type {\n",
       "        vertical-align: middle;\n",
       "    }\n",
       "\n",
       "    .dataframe tbody tr th {\n",
       "        vertical-align: top;\n",
       "    }\n",
       "\n",
       "    .dataframe thead th {\n",
       "        text-align: right;\n",
       "    }\n",
       "</style>\n",
       "<table border=\"1\" class=\"dataframe\">\n",
       "  <thead>\n",
       "    <tr style=\"text-align: right;\">\n",
       "      <th></th>\n",
       "      <th>Covered distance (m)</th>\n",
       "      <th>Duration (sec.)</th>\n",
       "      <th>ID</th>\n",
       "    </tr>\n",
       "  </thead>\n",
       "  <tbody>\n",
       "    <tr>\n",
       "      <th>0</th>\n",
       "      <td>2278.241089</td>\n",
       "      <td>947.940959</td>\n",
       "      <td>1.0</td>\n",
       "    </tr>\n",
       "    <tr>\n",
       "      <th>1</th>\n",
       "      <td>2179.004808</td>\n",
       "      <td>769.990385</td>\n",
       "      <td>2.0</td>\n",
       "    </tr>\n",
       "    <tr>\n",
       "      <th>2</th>\n",
       "      <td>2077.768908</td>\n",
       "      <td>808.126050</td>\n",
       "      <td>3.0</td>\n",
       "    </tr>\n",
       "    <tr>\n",
       "      <th>3</th>\n",
       "      <td>1719.640351</td>\n",
       "      <td>655.304094</td>\n",
       "      <td>4.0</td>\n",
       "    </tr>\n",
       "    <tr>\n",
       "      <th>4</th>\n",
       "      <td>2157.666667</td>\n",
       "      <td>770.964646</td>\n",
       "      <td>5.0</td>\n",
       "    </tr>\n",
       "    <tr>\n",
       "      <th>...</th>\n",
       "      <td>...</td>\n",
       "      <td>...</td>\n",
       "      <td>...</td>\n",
       "    </tr>\n",
       "    <tr>\n",
       "      <th>339</th>\n",
       "      <td>1427.766667</td>\n",
       "      <td>425.633333</td>\n",
       "      <td>761.0</td>\n",
       "    </tr>\n",
       "    <tr>\n",
       "      <th>340</th>\n",
       "      <td>1460.000000</td>\n",
       "      <td>424.038462</td>\n",
       "      <td>763.0</td>\n",
       "    </tr>\n",
       "    <tr>\n",
       "      <th>341</th>\n",
       "      <td>2155.500000</td>\n",
       "      <td>635.100000</td>\n",
       "      <td>767.0</td>\n",
       "    </tr>\n",
       "    <tr>\n",
       "      <th>342</th>\n",
       "      <td>2413.115385</td>\n",
       "      <td>1083.307692</td>\n",
       "      <td>769.0</td>\n",
       "    </tr>\n",
       "    <tr>\n",
       "      <th>343</th>\n",
       "      <td>860.000000</td>\n",
       "      <td>199.000000</td>\n",
       "      <td>900.0</td>\n",
       "    </tr>\n",
       "  </tbody>\n",
       "</table>\n",
       "<p>344 rows × 3 columns</p>\n",
       "</div>"
      ],
      "text/plain": [
       "     Covered distance (m)  Duration (sec.)     ID\n",
       "0             2278.241089       947.940959    1.0\n",
       "1             2179.004808       769.990385    2.0\n",
       "2             2077.768908       808.126050    3.0\n",
       "3             1719.640351       655.304094    4.0\n",
       "4             2157.666667       770.964646    5.0\n",
       "..                    ...              ...    ...\n",
       "339           1427.766667       425.633333  761.0\n",
       "340           1460.000000       424.038462  763.0\n",
       "341           2155.500000       635.100000  767.0\n",
       "342           2413.115385      1083.307692  769.0\n",
       "343            860.000000       199.000000  900.0\n",
       "\n",
       "[344 rows x 3 columns]"
      ]
     },
     "execution_count": 52,
     "metadata": {},
     "output_type": "execute_result"
    }
   ],
   "source": [
    "night_mean_data"
   ]
  },
  {
   "cell_type": "code",
   "execution_count": 39,
   "metadata": {},
   "outputs": [
    {
     "name": "stdout",
     "output_type": "stream",
     "text": [
      "The length of night trips: 32680\n"
     ]
    }
   ],
   "source": [
    "print('The length of night trips: '+str(len(night)))\n",
    "geodata = night.merge(stat, on = \"seutukunta\")"
   ]
  },
  {
   "cell_type": "code",
   "execution_count": 43,
   "metadata": {},
   "outputs": [],
   "source": [
    "night.to_csv('night_06_2019.csv')"
   ]
  },
  {
   "cell_type": "code",
   "execution_count": null,
   "metadata": {},
   "outputs": [],
   "source": []
  }
 ],
 "metadata": {
  "kernelspec": {
   "display_name": "Python 3",
   "language": "python",
   "name": "python3"
  },
  "language_info": {
   "codemirror_mode": {
    "name": "ipython",
    "version": 3
   },
   "file_extension": ".py",
   "mimetype": "text/x-python",
   "name": "python",
   "nbconvert_exporter": "python",
   "pygments_lexer": "ipython3",
   "version": "3.8.5"
  }
 },
 "nbformat": 4,
 "nbformat_minor": 4
}
